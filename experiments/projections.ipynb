{
 "cells": [
  {
   "cell_type": "code",
   "execution_count": null,
   "id": "75de6d93",
   "metadata": {},
   "outputs": [],
   "source": [
    "from mine.samples import projections\n",
    "import experiments\n",
    "from mine import mutual_information\n",
    "import pandas as pd"
   ]
  },
  {
   "cell_type": "code",
   "execution_count": null,
   "id": "d72f53c1",
   "metadata": {},
   "outputs": [],
   "source": [
    "dim_x = 3\n",
    "dim_y = 2\n",
    "number_of_samples = int(2.5e6)\n",
    "empirical_sample_size = 7500\n",
    "batch_size = 1000\n",
    "learning_rate = 5e-3\n",
    "num_of_epochs = 3"
   ]
  },
  {
   "cell_type": "markdown",
   "id": "23cc49c3",
   "metadata": {},
   "source": [
    "## All noise"
   ]
  },
  {
   "cell_type": "code",
   "execution_count": null,
   "id": "240fc9fc",
   "metadata": {},
   "outputs": [],
   "source": [
    "ps, mi = experiments.projections.all_noise(\n",
    "    dim_x=dim_x,\n",
    "    dim_y=dim_y,\n",
    "    number_of_samples=number_of_samples,\n",
    "    empirical_sample_size=empirical_sample_size,\n",
    "    learning_rate=learning_rate,\n",
    "    batch_size=batch_size,\n",
    "    num_of_epochs=num_of_epochs,\n",
    "    verbose=False,\n",
    ")"
   ]
  },
  {
   "cell_type": "code",
   "execution_count": null,
   "id": "2d334a2d",
   "metadata": {},
   "outputs": [],
   "source": [
    "training_sample = ps\n",
    "insample_mi = mi"
   ]
  },
  {
   "cell_type": "code",
   "execution_count": null,
   "id": "231a448c",
   "metadata": {},
   "outputs": [],
   "source": [
    "outsample_empirical_sample_size = 7500\n",
    "test_sample = projections.ProjectionSample.from_(training_sample)\n",
    "outsample_mi = mutual_information.MutualInformation(\n",
    "    dataset=test_sample,\n",
    "    test_function=insample_mi.test_function,\n",
    "    empirical_sample_size=outsample_empirical_sample_size,\n",
    ")"
   ]
  },
  {
   "cell_type": "code",
   "execution_count": null,
   "id": "510bf663",
   "metadata": {},
   "outputs": [],
   "source": [
    "num_evaluations = 30\n",
    "insample_estimated_mi = [\n",
    "    insample_mi()\n",
    "    for _ in range(num_evaluations)    \n",
    "]\n",
    "outsample_estimated_mi = [\n",
    "    outsample_mi()\n",
    "    for _ in range(num_evaluations)    \n",
    "]"
   ]
  },
  {
   "cell_type": "code",
   "execution_count": null,
   "id": "6479116d",
   "metadata": {},
   "outputs": [],
   "source": [
    "df = pd.DataFrame.from_dict(dict(\n",
    "    insample_estimated_mi=insample_estimated_mi,\n",
    "    outsample_estimated_mi=outsample_estimated_mi,\n",
    "))"
   ]
  },
  {
   "cell_type": "code",
   "execution_count": null,
   "id": "683a3a8b",
   "metadata": {},
   "outputs": [],
   "source": [
    "df.plot()"
   ]
  },
  {
   "cell_type": "code",
   "execution_count": null,
   "id": "662598a0",
   "metadata": {},
   "outputs": [],
   "source": [
    "df.describe()"
   ]
  },
  {
   "cell_type": "markdown",
   "id": "b8383d06",
   "metadata": {},
   "source": [
    "## No noise"
   ]
  },
  {
   "cell_type": "code",
   "execution_count": null,
   "id": "70a22894",
   "metadata": {},
   "outputs": [],
   "source": [
    "ps, mi = experiments.projections.no_noise(\n",
    "    dim_x=dim_x,\n",
    "    dim_y=dim_y,\n",
    "    number_of_samples=number_of_samples,\n",
    "    empirical_sample_size=empirical_sample_size,\n",
    "    learning_rate=learning_rate,\n",
    "    batch_size=batch_size,\n",
    "    num_of_epochs=num_of_epochs,\n",
    "    verbose=False,\n",
    ")"
   ]
  },
  {
   "cell_type": "code",
   "execution_count": null,
   "id": "3913a86e",
   "metadata": {},
   "outputs": [],
   "source": [
    "training_sample = ps\n",
    "insample_mi = mi"
   ]
  },
  {
   "cell_type": "code",
   "execution_count": null,
   "id": "bdb70c71",
   "metadata": {},
   "outputs": [],
   "source": [
    "outsample_empirical_sample_size = 7500\n",
    "test_sample = projections.ProjectionSample.from_(training_sample)\n",
    "outsample_mi = mutual_information.MutualInformation(\n",
    "    dataset=test_sample,\n",
    "    test_function=insample_mi.test_function,\n",
    "    empirical_sample_size=outsample_empirical_sample_size,\n",
    ")"
   ]
  },
  {
   "cell_type": "code",
   "execution_count": null,
   "id": "b16b5898",
   "metadata": {},
   "outputs": [],
   "source": [
    "num_evaluations = 30\n",
    "insample_estimated_mi = [\n",
    "    insample_mi()\n",
    "    for _ in range(num_evaluations)    \n",
    "]\n",
    "outsample_estimated_mi = [\n",
    "    outsample_mi()\n",
    "    for _ in range(num_evaluations)    \n",
    "]"
   ]
  },
  {
   "cell_type": "code",
   "execution_count": null,
   "id": "b129fd3c",
   "metadata": {},
   "outputs": [],
   "source": [
    "df = pd.DataFrame.from_dict(dict(\n",
    "    insample_estimated_mi=insample_estimated_mi,\n",
    "    outsample_estimated_mi=outsample_estimated_mi,\n",
    "))"
   ]
  },
  {
   "cell_type": "code",
   "execution_count": null,
   "id": "d456b0c0",
   "metadata": {},
   "outputs": [],
   "source": [
    "df.plot()"
   ]
  },
  {
   "cell_type": "code",
   "execution_count": null,
   "id": "37682c2a",
   "metadata": {},
   "outputs": [],
   "source": [
    "df.describe()"
   ]
  }
 ],
 "metadata": {
  "kernelspec": {
   "display_name": "mine",
   "language": "python",
   "name": "mine"
  },
  "language_info": {
   "codemirror_mode": {
    "name": "ipython",
    "version": 3
   },
   "file_extension": ".py",
   "mimetype": "text/x-python",
   "name": "python",
   "nbconvert_exporter": "python",
   "pygments_lexer": "ipython3",
   "version": "3.10.8"
  }
 },
 "nbformat": 4,
 "nbformat_minor": 5
}
