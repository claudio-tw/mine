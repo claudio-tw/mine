{
 "cells": [
  {
   "cell_type": "code",
   "execution_count": null,
   "id": "75de6d93",
   "metadata": {},
   "outputs": [],
   "source": [
    "import experiments\n",
    "import torch\n",
    "import numpy as np\n",
    "import matplotlib.pyplot as plt"
   ]
  },
  {
   "cell_type": "code",
   "execution_count": null,
   "id": "d72f53c1",
   "metadata": {},
   "outputs": [],
   "source": [
    "grid_size = 7\n",
    "number_of_samples = int(2.5e6)\n",
    "insample_empirical_sample_size = 10000\n",
    "outsample_empirical_sample_size = 10000\n",
    "learning_rate = 5e-3\n",
    "batch_size = 1000\n",
    "num_of_epochs = 6\n",
    "device = 'cpu' # torch.device('cuda' if torch.cuda.is_available() else 'cpu')\n",
    "print(device)"
   ]
  },
  {
   "cell_type": "code",
   "execution_count": null,
   "id": "240fc9fc",
   "metadata": {},
   "outputs": [],
   "source": [
    "smile = experiments.normal.smile(\n",
    "    grid_size=grid_size,\n",
    "    number_of_samples=number_of_samples,\n",
    "    insample_empirical_sample_size=insample_empirical_sample_size,\n",
    "    outsample_empirical_sample_size=outsample_empirical_sample_size,\n",
    "    learning_rate=learning_rate,\n",
    "    batch_size=batch_size,\n",
    "    verbose=False,\n",
    "    device=device,\n",
    ")"
   ]
  },
  {
   "cell_type": "code",
   "execution_count": null,
   "id": "3f337e28",
   "metadata": {},
   "outputs": [],
   "source": [
    "abscissa = np.array([s['correlation'] for s in smile])\n",
    "exact = np.array([s['exact_test_mi'] for s in smile])\n",
    "estimated = np.array([s['outsample_estimated_mi'] for s in smile])"
   ]
  },
  {
   "cell_type": "code",
   "execution_count": null,
   "id": "7b188c0d",
   "metadata": {},
   "outputs": [],
   "source": [
    "fig = plt.figure()\n",
    "ax = fig.add_subplot()\n",
    "ax.plot(abscissa, exact, label='exact')\n",
    "ax.plot(abscissa, estimated, label='estimated')\n",
    "fig.legend()\n",
    "plt.show()"
   ]
  }
 ],
 "metadata": {
  "kernelspec": {
   "display_name": "mine",
   "language": "python",
   "name": "mine"
  },
  "language_info": {
   "codemirror_mode": {
    "name": "ipython",
    "version": 3
   },
   "file_extension": ".py",
   "mimetype": "text/x-python",
   "name": "python",
   "nbconvert_exporter": "python",
   "pygments_lexer": "ipython3",
   "version": "3.10.8"
  }
 },
 "nbformat": 4,
 "nbformat_minor": 5
}
