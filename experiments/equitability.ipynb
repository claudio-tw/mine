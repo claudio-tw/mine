{
 "cells": [
  {
   "cell_type": "code",
   "execution_count": null,
   "id": "75de6d93",
   "metadata": {},
   "outputs": [],
   "source": [
    "from mine.samples import signal\n",
    "import experiments\n",
    "from mine import mutual_information\n",
    "import pandas as pd"
   ]
  },
  {
   "cell_type": "code",
   "execution_count": null,
   "id": "d72f53c1",
   "metadata": {},
   "outputs": [],
   "source": [
    "noise_variance = .001\n",
    "number_of_samples = int(12.5e6)\n",
    "batch_size = 2500\n",
    "empirical_sample_size = 4000\n",
    "num_of_epochs = 5"
   ]
  },
  {
   "cell_type": "code",
   "execution_count": null,
   "id": "240fc9fc",
   "metadata": {},
   "outputs": [],
   "source": [
    "table = experiments.equitability.univariates(\n",
    "    noise_variance=noise_variance,\n",
    "    number_of_samples=number_of_samples,\n",
    "    batch_size=batch_size,\n",
    "    empirical_sample_size=empirical_sample_size,\n",
    "    num_of_epochs=num_of_epochs,\n",
    "    verbose=False,\n",
    ")"
   ]
  },
  {
   "cell_type": "code",
   "execution_count": null,
   "id": "dd425a54",
   "metadata": {},
   "outputs": [],
   "source": [
    "num_evaluations = 50\n",
    "data = {\n",
    "    str(transformation): [\n",
    "        v[1]() for _ in range(num_evaluations)]\n",
    "    for transformation, v in table.items()\n",
    "}\n"
   ]
  },
  {
   "cell_type": "code",
   "execution_count": null,
   "id": "6479116d",
   "metadata": {},
   "outputs": [],
   "source": [
    "mis = pd.DataFrame.from_dict(data)"
   ]
  },
  {
   "cell_type": "code",
   "execution_count": null,
   "id": "bd8d36d0",
   "metadata": {},
   "outputs": [],
   "source": [
    "mis.plot(title='Estimated Mutual Information')"
   ]
  },
  {
   "cell_type": "code",
   "execution_count": null,
   "id": "662598a0",
   "metadata": {},
   "outputs": [],
   "source": [
    "mis.describe()"
   ]
  },
  {
   "cell_type": "code",
   "execution_count": null,
   "id": "00fa3685",
   "metadata": {},
   "outputs": [],
   "source": [
    "sdata = {\n",
    "    str(t): dict(\n",
    "        mutual_info=mis[str(t)].mean(),\n",
    "        avg_x=float(table[t][0].empirical_avg_x),\n",
    "        avg_y=float(table[t][0].empirical_avg_y),\n",
    "        cov_x=float(table[t][0].empirical_cov_x),\n",
    "        cov_y=float(table[t][0].empirical_cov_y),\n",
    "    )\n",
    "    for t in table.keys()\n",
    "}"
   ]
  },
  {
   "cell_type": "code",
   "execution_count": null,
   "id": "5611d535",
   "metadata": {},
   "outputs": [],
   "source": [
    "stats = pd.DataFrame.from_dict(sdata)"
   ]
  },
  {
   "cell_type": "code",
   "execution_count": null,
   "id": "8297104f",
   "metadata": {},
   "outputs": [],
   "source": [
    "stats"
   ]
  }
 ],
 "metadata": {
  "kernelspec": {
   "display_name": "mine",
   "language": "python",
   "name": "mine"
  },
  "language_info": {
   "codemirror_mode": {
    "name": "ipython",
    "version": 3
   },
   "file_extension": ".py",
   "mimetype": "text/x-python",
   "name": "python",
   "nbconvert_exporter": "python",
   "pygments_lexer": "ipython3",
   "version": "3.10.8"
  }
 },
 "nbformat": 4,
 "nbformat_minor": 5
}
